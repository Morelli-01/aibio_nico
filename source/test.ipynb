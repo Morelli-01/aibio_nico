{
 "cells": [
  {
   "cell_type": "code",
   "execution_count": 1,
   "metadata": {},
   "outputs": [
    {
     "name": "stdout",
     "output_type": "stream",
     "text": [
      "+--------------------+----------------------------------------------------------------+\n",
      "|               Name |                                                          Value |\n",
      "+--------------------+----------------------------------------------------------------+\n",
      "|                net |                                                         simclr |\n",
      "|      backbone_name |                                                       vit_base |\n",
      "|     checkpoint_dir |                          /homes/nmorelli/aibio_nico/checkpoint |\n",
      "|        dataset_dir |                                         /work/ai4bio2024/rxrx1 |\n",
      "|    load_checkpoint |                                                           None |\n",
      "|      load_backbone | /homes/nmorelli/aibio_nico/checkpoint/simclr_backbone_vit_base |\n",
      "|      metadata_path |                 /work/ai4bio2024/rxrx1/rxrx1_v1.0/metadata.csv |\n",
      "|             epochs |                                                             10 |\n",
      "|         batch_size |                                                            256 |\n",
      "|               loss |                                                     simclrloss |\n",
      "|                opt |                                                           adam |\n",
      "|                 lr |                                                          0.005 |\n",
      "|    evaluation_freq |                                                              4 |\n",
      "|    model_save_freq |                                                             10 |\n",
      "|          sched_pow |                                                              3 |\n",
      "|        num_classes |                                                              4 |\n",
      "|             device |                                                            gpu |\n",
      "|      multiple_gpus |                                                           True |\n",
      "|      train_workers |                                                             16 |\n",
      "| evaluation_workers |                                                             16 |\n",
      "|       project_name |                                                      aibio_prj |\n",
      "|           run_name |                                         vit_base_pretrain_back |\n",
      "+--------------------+----------------------------------------------------------------+\n",
      "Training network on Tesla P100-PCIE-16GB(8)\n"
     ]
    }
   ],
   "source": [
    "from utils import *\n",
    "from torchvision.datasets import ImageFolder\n",
    "from dataset import Rxrx1\n",
    "from torch.utils.data import DataLoader\n",
    "\n",
    "config = load_yaml(\"/homes/nmorelli/aibio_nico/config/general_conf.yaml\")\n",
    "device = load_device(config)"
   ]
  },
  {
   "cell_type": "code",
   "execution_count": 2,
   "metadata": {},
   "outputs": [],
   "source": [
    "dataset = Rxrx1(root_dir = config[\"dataset_dir\"], metadata_path=config[\"metadata_path\"])"
   ]
  },
  {
   "cell_type": "code",
   "execution_count": 3,
   "metadata": {},
   "outputs": [],
   "source": [
    "net, losser, opt, sched = config_loader(config, dataset)\n",
    "net = net.to(device)\n",
    "from source.backbone.trainer_backbone import *\n",
    "# tr_ = Trainer(net, device, config, opt, losser, collate=None, scheduler=sched)"
   ]
  },
  {
   "cell_type": "code",
   "execution_count": 4,
   "metadata": {},
   "outputs": [],
   "source": [
    "checkpoint = torch.load(\"/homes/nmorelli/aibio_nico/checkpoint/simclr_backbone_vit_base\")"
   ]
  },
  {
   "cell_type": "code",
   "execution_count": 9,
   "metadata": {},
   "outputs": [
    {
     "data": {
      "text/plain": [
       "_IncompatibleKeys(missing_keys=['cls_head.0.weight', 'cls_head.0.bias', 'cls_head.2.weight', 'cls_head.2.bias'], unexpected_keys=[])"
      ]
     },
     "execution_count": 9,
     "metadata": {},
     "output_type": "execute_result"
    }
   ],
   "source": [
    "net.load_state_dict(checkpoint[\"model_state_dict\"], strict=False)"
   ]
  },
  {
   "cell_type": "code",
   "execution_count": 7,
   "metadata": {},
   "outputs": [
    {
     "data": {
      "text/plain": [
       "'vit_base'"
      ]
     },
     "execution_count": 7,
     "metadata": {},
     "output_type": "execute_result"
    }
   ],
   "source": [
    "net.backbone_name"
   ]
  },
  {
   "cell_type": "code",
   "execution_count": null,
   "metadata": {},
   "outputs": [],
   "source": []
  }
 ],
 "metadata": {
  "kernelspec": {
   "display_name": "base",
   "language": "python",
   "name": "python3"
  },
  "language_info": {
   "codemirror_mode": {
    "name": "ipython",
    "version": 3
   },
   "file_extension": ".py",
   "mimetype": "text/x-python",
   "name": "python",
   "nbconvert_exporter": "python",
   "pygments_lexer": "ipython3",
   "version": "3.9.13"
  }
 },
 "nbformat": 4,
 "nbformat_minor": 2
}
